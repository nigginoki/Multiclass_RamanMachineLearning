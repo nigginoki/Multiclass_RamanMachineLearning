{
 "cells": [
  {
   "cell_type": "code",
   "execution_count": 1,
   "id": "78c7a84a-86dd-488e-8849-309ecbb81403",
   "metadata": {},
   "outputs": [],
   "source": [
    "%matplotlib inline\n",
    "import sys\n",
    "sys.path.append(\"../lib/\")\n",
    "import os\n",
    "import string\n",
    "import numpy as np\n",
    "import pandas as pd\n",
    "from pathlib import Path\n",
    "\n",
    "import matplotlib.pyplot as plt\n",
    "import matplotlib.gridspec as gridspec\n",
    "from sklearn.tree import plot_tree\n",
    "import seaborn as sns\n",
    "import graphviz\n",
    "import shap\n",
    "\n",
    "from raman_lib.visualization import (plot_spectra_peaks, \n",
    "                                     plot_qc_summary, \n",
    "                                     plot_confidence_scores, \n",
    "                                     plot_coefs, \n",
    "                                     plot_confusion_matrix, \n",
    "                                     plot_roc_curve, \n",
    "                                     plot_validation_curve,\n",
    "                                     plot_roc_comparison,\n",
    "                                     boxplot_comparison)"
   ]
  },
  {
   "cell_type": "code",
   "execution_count": 3,
   "id": "c958bbc4-24f2-437e-b19a-195a9d6c272f",
   "metadata": {},
   "outputs": [],
   "source": [
    "#dataset = \"pro\"\n",
    "dataset = \"L_540_2022_C_E_R_B\""
   ]
  },
  {
   "cell_type": "code",
   "execution_count": 4,
   "id": "bbbbe3c5-a80d-4c44-8a00-30250026eae1",
   "metadata": {},
   "outputs": [],
   "source": [
    "results_path = Path(\"../results/\") / dataset\n",
    "img_path = Path(\"../img/\") / dataset\n",
    "\n",
    "img_path.mkdir(parents=True, exist_ok=True)"
   ]
  },
  {
   "cell_type": "code",
   "execution_count": 5,
   "id": "d0811f99-f61c-4624-881f-0b9e2bb0a8e2",
   "metadata": {},
   "outputs": [],
   "source": [
    "data = pd.read_csv(results_path / (dataset + \"_preprocessed.csv\"))\n",
    "\n",
    "y, y_key = pd.factorize(data.label)"
   ]
  },
  {
   "cell_type": "code",
   "execution_count": 6,
   "id": "941df801-47a7-438f-957e-d5c25497dc23",
   "metadata": {},
   "outputs": [],
   "source": [
    "rocs = {}\n",
    "aucs = {}\n",
    "p_vals = {}\n",
    "accs = {}\n",
    "f1_scores = {}\n",
    "fit_times = {}\n",
    "predict_times = {}"
   ]
  },
  {
   "cell_type": "code",
   "execution_count": 7,
   "id": "c8d1fd42-9b54-4e35-8f77-9a0b39184f41",
   "metadata": {},
   "outputs": [],
   "source": [
    "plt.style.use(\"seaborn-paper\")\n",
    "plt.rcParams[\"figure.figsize\"] = (10, 7)\n",
    "plt.rcParams[\"figure.dpi\"] = 100\n",
    "\n",
    "plt.rcParams[\"font.family\"] = \"sans-serif\"\n",
    "plt.rcParams[\"font.size\"] = 11\n",
    "plt.rcParams[\"axes.labelsize\"] = 11\n",
    "plt.rcParams[\"xtick.labelsize\"] = 10\n",
    "plt.rcParams[\"ytick.labelsize\"] = 10\n",
    "plt.rcParams[\"legend.fontsize\"] = 9"
   ]
  },
  {
   "cell_type": "code",
   "execution_count": 8,
   "id": "0cc959b8-1b96-4ac3-af6e-9fc7aa5aae4c",
   "metadata": {},
   "outputs": [],
   "source": [
    "### inspect results more methods"
   ]
  },
  {
   "cell_type": "code",
   "execution_count": 10,
   "id": "66a84298-83a9-4e30-87b9-4f2e4f1f7630",
   "metadata": {},
   "outputs": [
    {
     "data": {
      "text/html": [
       "<div>\n",
       "<style scoped>\n",
       "    .dataframe tbody tr th:only-of-type {\n",
       "        vertical-align: middle;\n",
       "    }\n",
       "\n",
       "    .dataframe tbody tr th {\n",
       "        vertical-align: top;\n",
       "    }\n",
       "\n",
       "    .dataframe thead th {\n",
       "        text-align: right;\n",
       "    }\n",
       "</style>\n",
       "<table border=\"1\" class=\"dataframe\">\n",
       "  <thead>\n",
       "    <tr style=\"text-align: right;\">\n",
       "      <th></th>\n",
       "      <th>train_accuracy</th>\n",
       "      <th>test_accuracy</th>\n",
       "      <th>fit_time</th>\n",
       "      <th>predict_time</th>\n",
       "      <th>p_value</th>\n",
       "    </tr>\n",
       "  </thead>\n",
       "  <tbody>\n",
       "    <tr>\n",
       "      <th>count</th>\n",
       "      <td>3.000000</td>\n",
       "      <td>3.000000</td>\n",
       "      <td>3.000000</td>\n",
       "      <td>3.000000</td>\n",
       "      <td>3.000000e+00</td>\n",
       "    </tr>\n",
       "    <tr>\n",
       "      <th>mean</th>\n",
       "      <td>0.936389</td>\n",
       "      <td>0.635278</td>\n",
       "      <td>38.181086</td>\n",
       "      <td>0.015310</td>\n",
       "      <td>9.301777e-70</td>\n",
       "    </tr>\n",
       "    <tr>\n",
       "      <th>std</th>\n",
       "      <td>0.013878</td>\n",
       "      <td>0.005549</td>\n",
       "      <td>1.548628</td>\n",
       "      <td>0.000666</td>\n",
       "      <td>1.248942e-69</td>\n",
       "    </tr>\n",
       "    <tr>\n",
       "      <th>min</th>\n",
       "      <td>0.920833</td>\n",
       "      <td>0.631667</td>\n",
       "      <td>36.396663</td>\n",
       "      <td>0.014626</td>\n",
       "      <td>6.698676e-71</td>\n",
       "    </tr>\n",
       "    <tr>\n",
       "      <th>25%</th>\n",
       "      <td>0.930833</td>\n",
       "      <td>0.632083</td>\n",
       "      <td>37.684665</td>\n",
       "      <td>0.014987</td>\n",
       "      <td>2.141218e-70</td>\n",
       "    </tr>\n",
       "    <tr>\n",
       "      <th>50%</th>\n",
       "      <td>0.940833</td>\n",
       "      <td>0.632500</td>\n",
       "      <td>38.972666</td>\n",
       "      <td>0.015349</td>\n",
       "      <td>3.612569e-70</td>\n",
       "    </tr>\n",
       "    <tr>\n",
       "      <th>75%</th>\n",
       "      <td>0.944167</td>\n",
       "      <td>0.637083</td>\n",
       "      <td>39.073297</td>\n",
       "      <td>0.015653</td>\n",
       "      <td>1.361773e-69</td>\n",
       "    </tr>\n",
       "    <tr>\n",
       "      <th>max</th>\n",
       "      <td>0.947500</td>\n",
       "      <td>0.641667</td>\n",
       "      <td>39.173929</td>\n",
       "      <td>0.015957</td>\n",
       "      <td>2.362289e-69</td>\n",
       "    </tr>\n",
       "  </tbody>\n",
       "</table>\n",
       "</div>"
      ],
      "text/plain": [
       "       train_accuracy  test_accuracy   fit_time  predict_time       p_value\n",
       "count        3.000000       3.000000   3.000000      3.000000  3.000000e+00\n",
       "mean         0.936389       0.635278  38.181086      0.015310  9.301777e-70\n",
       "std          0.013878       0.005549   1.548628      0.000666  1.248942e-69\n",
       "min          0.920833       0.631667  36.396663      0.014626  6.698676e-71\n",
       "25%          0.930833       0.632083  37.684665      0.014987  2.141218e-70\n",
       "50%          0.940833       0.632500  38.972666      0.015349  3.612569e-70\n",
       "75%          0.944167       0.637083  39.073297      0.015653  1.361773e-69\n",
       "max          0.947500       0.641667  39.173929      0.015957  2.362289e-69"
      ]
     },
     "execution_count": 10,
     "metadata": {},
     "output_type": "execute_result"
    }
   ],
   "source": [
    "current_path = results_path / \"MLP/\"\n",
    "name = \"MLP\"\n",
    "\n",
    "ct_df = pd.read_csv(current_path / \"ct_results.csv\")\n",
    "\n",
    "accs[name] = ct_df.test_accuracy\n",
    "#f1_scores[name] = ct_df.test_f1\n",
    "fit_times[name] = ct_df.fit_time\n",
    "predict_times[name] = ct_df.predict_time\n",
    "p_vals[name] = ct_df.p_value\n",
    "\n",
    "ct_df.describe()"
   ]
  },
  {
   "cell_type": "code",
   "execution_count": 12,
   "id": "9eb579e6-91dd-48ad-ba14-3a6a8f656384",
   "metadata": {},
   "outputs": [],
   "source": [
    "cv_df = pd.read_csv(current_path / \"cv_results.csv\")\n",
    "param_df = pd.read_csv(current_path / \"param_results.csv\")\n",
    "proba_df = pd.read_csv(current_path / \"probabilities.csv\", header=None)\n",
    "pred_df = pd.read_csv(current_path / \"predictions.csv\", header=None)"
   ]
  },
  {
   "cell_type": "code",
   "execution_count": 13,
   "id": "df14673e-a797-414d-a20a-5b63d9c18e5d",
   "metadata": {},
   "outputs": [
    {
     "ename": "NameError",
     "evalue": "name 'shap_val_df' is not defined",
     "output_type": "error",
     "traceback": [
      "\u001b[0;31m---------------------------------------------------------------------------\u001b[0m",
      "\u001b[0;31mNameError\u001b[0m                                 Traceback (most recent call last)",
      "Cell \u001b[0;32mIn[13], line 13\u001b[0m\n\u001b[1;32m     10\u001b[0m ax1\u001b[38;5;241m.\u001b[39mgrid(axis\u001b[38;5;241m=\u001b[39m\u001b[38;5;124m\"\u001b[39m\u001b[38;5;124my\u001b[39m\u001b[38;5;124m\"\u001b[39m)\n\u001b[1;32m     12\u001b[0m ax2 \u001b[38;5;241m=\u001b[39m axs[\u001b[38;5;241m0\u001b[39m,\u001b[38;5;241m1\u001b[39m]\n\u001b[0;32m---> 13\u001b[0m plot_coefs(\u001b[43mshap_val_df\u001b[49m, ax\u001b[38;5;241m=\u001b[39max2, col\u001b[38;5;241m=\u001b[39m\u001b[38;5;28;01mFalse\u001b[39;00m, annotate\u001b[38;5;241m=\u001b[39m\u001b[38;5;28;01mTrue\u001b[39;00m, annot_kw\u001b[38;5;241m=\u001b[39m{\u001b[38;5;124m\"\u001b[39m\u001b[38;5;124mmin_height\u001b[39m\u001b[38;5;124m\"\u001b[39m: \u001b[38;5;241m0.25\u001b[39m, \n\u001b[1;32m     14\u001b[0m                                                                     \u001b[38;5;124m\"\u001b[39m\u001b[38;5;124mmin_dist\u001b[39m\u001b[38;5;124m\"\u001b[39m: \u001b[38;5;241m50\u001b[39m,\n\u001b[1;32m     15\u001b[0m                                                                     \u001b[38;5;124m\"\u001b[39m\u001b[38;5;124moffset\u001b[39m\u001b[38;5;124m\"\u001b[39m: \u001b[38;5;241m6\u001b[39m,\n\u001b[1;32m     16\u001b[0m                                                                     \u001b[38;5;124m\"\u001b[39m\u001b[38;5;124mfontsize\u001b[39m\u001b[38;5;124m\"\u001b[39m: \u001b[38;5;241m9\u001b[39m})\n\u001b[1;32m     18\u001b[0m ax2\u001b[38;5;241m.\u001b[39mset_xlabel(\u001b[38;5;124m\"\u001b[39m\u001b[38;5;124mWavenumber ($\u001b[39m\u001b[38;5;124m\\\u001b[39m\u001b[38;5;124mmathregular\u001b[39m\u001b[38;5;124m{\u001b[39m\u001b[38;5;124mcm^\u001b[39m\u001b[38;5;124m{\u001b[39m\u001b[38;5;124m-1}}$)\u001b[39m\u001b[38;5;124m\"\u001b[39m)\n\u001b[1;32m     19\u001b[0m ax2\u001b[38;5;241m.\u001b[39mset_ylabel(\u001b[38;5;124m\"\u001b[39m\u001b[38;5;124mMean absolute SHAP value\u001b[39m\u001b[38;5;124m\"\u001b[39m)\n",
      "\u001b[0;31mNameError\u001b[0m: name 'shap_val_df' is not defined"
     ]
    },
    {
     "data": {
      "image/png": "[encoded data removed]",
      "text/plain": [
       "<Figure size 1000x700 with 4 Axes>"
      ]
     },
     "metadata": {},
     "output_type": "display_data"
    }
   ],
   "source": [
    "fig, axs = plt.subplots(nrows=2, ncols=2,\n",
    "                        gridspec_kw={\"width_ratios\": (1, 1.3), \n",
    "                                     \"height_ratios\": (1, 1.2)})\n",
    "\n",
    "ax1 = axs[0,0]\n",
    "plot_confidence_scores(proba_df, y_key[y], y_key, markersize=3, ax=ax1)\n",
    "ax1.axhline(0.5, color=\"k\", linestyle=\"--\", linewidth=1, alpha=0.7)\n",
    "ax1.set_yscale(\"logit\")\n",
    "ax1.set_ylabel(\"Probability (-)\")\n",
    "ax1.grid(axis=\"y\")\n",
    "\n",
    "ax2 = axs[0,1]\n",
    "plot_coefs(shap_val_df, ax=ax2, col=False, annotate=True, annot_kw={\"min_height\": 0.25, \n",
    "                                                                    \"min_dist\": 50,\n",
    "                                                                    \"offset\": 6,\n",
    "                                                                    \"fontsize\": 9})\n",
    "\n",
    "ax2.set_xlabel(\"Wavenumber ($\\mathregular{cm^{-1}}$)\")\n",
    "ax2.set_ylabel(\"Mean absolute SHAP value\")\n",
    "ax2.margins(x=0, y=0.2)\n",
    "ax2.set_ylim(0, None)\n",
    "ax2.grid()\n",
    "\n",
    "ax3 = axs[1,0]\n",
    "plot_confusion_matrix(pred_df, y, labels=y_key, ax=ax3, cmap=\"Greys\", colorbar=True, aspect=\"auto\")\n",
    "\n",
    "\n",
    "ax4 = axs[1,1]\n",
    "rocs[name], aucs[name] = plot_roc_curve(proba_df, y, name, ax=ax4)\n",
    "ax4.set_xlabel(f\"False Positive Rate\")\n",
    "ax4.set_ylabel(f\"True Positive Rate\")\n",
    "ax4.legend(loc=\"lower right\")\n",
    "ax4.grid()\n",
    "\n",
    "for i, ax in enumerate(axs.ravel()):\n",
    "    ax.text(-0.05, 1.05, string.ascii_uppercase[i], transform=ax.transAxes, size=16, weight=\"bold\")\n",
    "\n",
    "fig.subplots_adjust(wspace=0.35, hspace=0.3)\n",
    "fig.align_xlabels()\n",
    "fig.align_ylabels(axs=[ax1, ax3])\n",
    "\n",
    "fig.savefig(img_path / \"gbdt_combined.png\", format=\"png\", dpi=300, bbox_inches=\"tight\")"
   ]
  },
  {
   "cell_type": "code",
   "execution_count": null,
   "id": "9fa75eb7-862e-4549-8716-7ff252c45617",
   "metadata": {},
   "outputs": [],
   "source": []
  }
 ],
 "metadata": {
  "kernelspec": {
   "display_name": "raman",
   "language": "python",
   "name": "raman"
  },
  "language_info": {
   "codemirror_mode": {
    "name": "ipython",
    "version": 3
   },
   "file_extension": ".py",
   "mimetype": "text/x-python",
   "name": "python",
   "nbconvert_exporter": "python",
   "pygments_lexer": "ipython3",
   "version": "3.10.8"
  }
 },
 "nbformat": 4,
 "nbformat_minor": 5
}
