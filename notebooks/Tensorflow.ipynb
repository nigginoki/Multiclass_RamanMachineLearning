{
 "cells": [
  {
   "cell_type": "code",
   "execution_count": 1,
   "id": "c4e3f119-474f-43df-808f-4d4a7464eadd",
   "metadata": {},
   "outputs": [
    {
     "name": "stderr",
     "output_type": "stream",
     "text": [
      "2023-05-15 10:21:59.336605: I tensorflow/tsl/cuda/cudart_stub.cc:28] Could not find cuda drivers on your machine, GPU will not be used.\n",
      "2023-05-15 10:21:59.440248: I tensorflow/tsl/cuda/cudart_stub.cc:28] Could not find cuda drivers on your machine, GPU will not be used.\n",
      "2023-05-15 10:21:59.441363: I tensorflow/core/platform/cpu_feature_guard.cc:182] This TensorFlow binary is optimized to use available CPU instructions in performance-critical operations.\n",
      "To enable the following instructions: AVX2 AVX512F FMA, in other operations, rebuild TensorFlow with the appropriate compiler flags.\n",
      "2023-05-15 10:22:00.629671: W tensorflow/compiler/tf2tensorrt/utils/py_utils.cc:38] TF-TRT Warning: Could not find TensorRT\n"
     ]
    },
    {
     "name": "stdout",
     "output_type": "stream",
     "text": [
      "2.13.0-dev20230411\n"
     ]
    }
   ],
   "source": [
    "# TensorFlow and tf.keras\n",
    "import tensorflow as tf\n",
    "\n",
    "# Helper libraries\n",
    "import numpy as np\n",
    "import pandas as pd\n",
    "import matplotlib.pyplot as plt\n",
    "\n",
    "print(tf.__version__)\n",
    "\n",
    "from sklearn.model_selection import train_test_split\n",
    "from sklearn.preprocessing import LabelBinarizer\n",
    "\n",
    "import sys\n",
    "sys.path.append(\"../lib/\")\n",
    "from pathlib import Path\n",
    "\n",
    "from tensorflow.keras.models import Sequential, load_model\n",
    "from tensorflow.keras.layers import Dense\n",
    "from sklearn.metrics import accuracy_score"
   ]
  },
  {
   "cell_type": "code",
   "execution_count": 2,
   "id": "f43c47c9-4f4d-4d4a-a5e6-281df7adc47f",
   "metadata": {
    "tags": []
   },
   "outputs": [],
   "source": [
    "dataset = \"L_540_2022_C_E_R_B\"\n",
    "results_path = Path(\"../results/\") / dataset\n",
    "df = pd.read_csv(results_path / (dataset + \"_preprocessed.csv\"))\n",
    "\n",
    "\n",
    "X = pd.get_dummies(df.drop(['label', 'file'], axis=1))\n",
    "\n",
    "# Map the class names to integer values\n",
    "class_map = {'Both': 0, 'Control': 1, 'Etoposide': 2, 'Resveratrol': 3}\n",
    "y = df['label'] = df['label'].replace(class_map)"
   ]
  },
  {
   "cell_type": "code",
   "execution_count": 4,
   "id": "cc5a3c8b-933f-4a1a-b66e-ee142cf418d7",
   "metadata": {
    "tags": []
   },
   "outputs": [],
   "source": [
    "X_train, X_test, y_train, y_test = train_test_split(X, y, test_size=.2)"
   ]
  },
  {
   "cell_type": "code",
   "execution_count": 5,
   "id": "7b25a423-daa5-433e-84e1-0e79ec08aa43",
   "metadata": {},
   "outputs": [],
   "source": [
    "class_names = ['Both', 'Control', 'Etoposide', 'Resveratrol']"
   ]
  },
  {
   "cell_type": "markdown",
   "id": "2711b39e-a835-44f1-870a-67932999dd8d",
   "metadata": {},
   "source": [
    "# Build the model"
   ]
  },
  {
   "cell_type": "code",
   "execution_count": 9,
   "id": "4727f813-af86-46f5-872a-9cee368774b3",
   "metadata": {},
   "outputs": [],
   "source": [
    "model = tf.keras.Sequential([\n",
    "    tf.keras.layers.Flatten(input_shape=(2601,)),\n",
    "    tf.keras.layers.Dense(128, activation='relu'),\n",
    "    tf.keras.layers.Dense(4)\n",
    "])\n"
   ]
  },
  {
   "cell_type": "code",
   "execution_count": 10,
   "id": "b72ac06b-f556-4ffb-b658-c874c875d5b1",
   "metadata": {},
   "outputs": [],
   "source": [
    "model.compile(optimizer='adam',\n",
    "              loss=tf.keras.losses.SparseCategoricalCrossentropy(from_logits=True),\n",
    "              metrics=['accuracy'])"
   ]
  },
  {
   "cell_type": "markdown",
   "id": "e0ad71df-400e-4fb5-965b-85bbf683ec68",
   "metadata": {},
   "source": [
    "# Train the model"
   ]
  },
  {
   "cell_type": "code",
   "execution_count": 11,
   "id": "056dd78e-725e-49a3-9c05-b26f6397a54f",
   "metadata": {
    "tags": []
   },
   "outputs": [
    {
     "data": {
      "text/plain": [
       "<keras.src.callbacks.History at 0x7f01a3ebc850>"
      ]
     },
     "execution_count": 11,
     "metadata": {},
     "output_type": "execute_result"
    }
   ],
   "source": [
    "model.fit(X_train, y_train, epochs=100, use_multiprocessing = True, verbose = False)"
   ]
  },
  {
   "cell_type": "code",
   "execution_count": 12,
   "id": "f02b3ebb-0369-4721-a3c9-0a3b8373e113",
   "metadata": {},
   "outputs": [
    {
     "name": "stdout",
     "output_type": "stream",
     "text": [
      "8/8 - 0s - loss: 0.9775 - accuracy: 0.6625 - 207ms/epoch - 26ms/step\n",
      "\n",
      "Test accuracy: 0.6625000238418579\n"
     ]
    }
   ],
   "source": [
    "test_loss, test_acc = model.evaluate(X_test,  y_test, verbose=2)\n",
    "\n",
    "print('\\nTest accuracy:', test_acc)"
   ]
  },
  {
   "cell_type": "markdown",
   "id": "81db4fb5-061f-4111-bd32-30ceeb66c447",
   "metadata": {},
   "source": [
    "# Build the model"
   ]
  },
  {
   "cell_type": "code",
   "execution_count": null,
   "id": "a820dd17-b48f-42a2-bd4f-a01c002848ea",
   "metadata": {},
   "outputs": [],
   "source": []
  },
  {
   "cell_type": "code",
   "execution_count": 38,
   "id": "74753c3e-102d-4432-b371-c2a10738ae28",
   "metadata": {},
   "outputs": [
    {
     "name": "stdout",
     "output_type": "stream",
     "text": [
      "8/8 [==============================] - 0s 2ms/step\n"
     ]
    },
    {
     "data": {
      "text/plain": [
       "array([4.2935785e-06, 9.5329696e-01, 2.3143338e-02, 2.3555385e-02],\n",
       "      dtype=float32)"
      ]
     },
     "execution_count": 38,
     "metadata": {},
     "output_type": "execute_result"
    }
   ],
   "source": [
    "probability_model = tf.keras.Sequential([model, \n",
    "                                         tf.keras.layers.Softmax()])\n",
    "predictions = probability_model.predict(X_test)\n",
    "predictions[0]"
   ]
  },
  {
   "cell_type": "code",
   "execution_count": 39,
   "id": "fa1142e4-d2d1-4003-aa78-5cb8f6bcf94c",
   "metadata": {},
   "outputs": [
    {
     "data": {
      "text/plain": [
       "1"
      ]
     },
     "execution_count": 39,
     "metadata": {},
     "output_type": "execute_result"
    }
   ],
   "source": [
    "np.argmax(predictions[0])"
   ]
  },
  {
   "cell_type": "markdown",
   "id": "68ef3ae3-c870-454b-ac9b-3034770752cb",
   "metadata": {},
   "source": [
    "# Use the trained model"
   ]
  },
  {
   "cell_type": "code",
   "execution_count": 60,
   "id": "4a06e0f1-aeae-430b-aaa2-3de9b0b742f3",
   "metadata": {},
   "outputs": [],
   "source": [
    "# Grab an image from the test dataset.\n",
    "test = X_test[:1]"
   ]
  },
  {
   "cell_type": "markdown",
   "id": "2e8a3a7f-da2d-4680-9bd9-67ab24af5c95",
   "metadata": {},
   "source": [
    "# Tune model"
   ]
  },
  {
   "cell_type": "code",
   "execution_count": null,
   "id": "3f44879a-f5b9-42ea-857c-624eac6f8d3e",
   "metadata": {},
   "outputs": [],
   "source": [
    "model.save('tfmodel')\n",
    "del model \n",
    "model = load_model('tfmodel')"
   ]
  },
  {
   "cell_type": "code",
   "execution_count": null,
   "id": "da8cb8b6-1f55-4111-8811-c4ed1f4186df",
   "metadata": {},
   "outputs": [],
   "source": []
  },
  {
   "cell_type": "code",
   "execution_count": null,
   "id": "8a096d02-5b3e-43f4-a985-cacad75b434c",
   "metadata": {},
   "outputs": [],
   "source": []
  }
 ],
 "metadata": {
  "kernelspec": {
   "display_name": "Python 3 (ipykernel)",
   "language": "python",
   "name": "python3"
  },
  "language_info": {
   "codemirror_mode": {
    "name": "ipython",
    "version": 3
   },
   "file_extension": ".py",
   "mimetype": "text/x-python",
   "name": "python",
   "nbconvert_exporter": "python",
   "pygments_lexer": "ipython3",
   "version": "3.9.15"
  }
 },
 "nbformat": 4,
 "nbformat_minor": 5
}
