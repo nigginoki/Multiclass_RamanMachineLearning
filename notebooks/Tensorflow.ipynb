{
 "cells": [
  {
   "cell_type": "code",
   "execution_count": 80,
   "id": "c4e3f119-474f-43df-808f-4d4a7464eadd",
   "metadata": {},
   "outputs": [
    {
     "name": "stdout",
     "output_type": "stream",
     "text": [
      "2.12.0\n"
     ]
    }
   ],
   "source": [
    "# TensorFlow and tf.keras\n",
    "import tensorflow as tf\n",
    "\n",
    "# Helper libraries\n",
    "import numpy as np\n",
    "import pandas as pd\n",
    "import matplotlib.pyplot as plt\n",
    "\n",
    "print(tf.__version__)\n",
    "\n",
    "from sklearn.model_selection import train_test_split\n",
    "from sklearn.preprocessing import LabelBinarizer\n",
    "\n",
    "import sys\n",
    "sys.path.append(\"../lib/\")\n",
    "from pathlib import Path\n",
    "\n",
    "from tensorflow.keras.models import Sequential, load_model\n",
    "from tensorflow.keras.layers import Dense\n",
    "from sklearn.metrics import accuracy_score"
   ]
  },
  {
   "cell_type": "code",
   "execution_count": 81,
   "id": "f43c47c9-4f4d-4d4a-a5e6-281df7adc47f",
   "metadata": {
    "tags": []
   },
   "outputs": [],
   "source": [
    "dataset = \"L_540_2022_C_E_R_B\"\n",
    "results_path = Path(\"../results/\") / dataset\n",
    "df = pd.read_csv(results_path / (dataset + \"_preprocessed.csv\"))\n",
    "\n",
    "\n",
    "X = pd.get_dummies(df.drop(['label', 'file'], axis=1))\n",
    "\n",
    "# Map the class names to integer values\n",
    "class_map = {'Both': 0, 'Control': 1, 'Etoposide': 2, 'Resveratrol': 3}\n",
    "y = df['label'] = df['label'].replace(class_map)"
   ]
  },
  {
   "cell_type": "code",
   "execution_count": 89,
   "id": "cc5a3c8b-933f-4a1a-b66e-ee142cf418d7",
   "metadata": {
    "tags": []
   },
   "outputs": [
    {
     "data": {
      "text/plain": [
       "1143    3\n",
       "1156    3\n",
       "470     1\n",
       "1113    3\n",
       "394     1\n",
       "       ..\n",
       "646     2\n",
       "9       0\n",
       "1018    3\n",
       "273     0\n",
       "1146    3\n",
       "Name: label, Length: 960, dtype: int64"
      ]
     },
     "execution_count": 89,
     "metadata": {},
     "output_type": "execute_result"
    }
   ],
   "source": [
    "X_train, X_test, y_train, y_test = train_test_split(X, y, test_size=.2)\n",
    "\n",
    "y_train"
   ]
  },
  {
   "cell_type": "code",
   "execution_count": 4,
   "id": "7b25a423-daa5-433e-84e1-0e79ec08aa43",
   "metadata": {},
   "outputs": [],
   "source": [
    "class_names = ['Both', 'Control', 'Etoposide', 'Resveratrol']"
   ]
  },
  {
   "cell_type": "markdown",
   "id": "2711b39e-a835-44f1-870a-67932999dd8d",
   "metadata": {},
   "source": [
    "# Build the model"
   ]
  },
  {
   "cell_type": "code",
   "execution_count": 90,
   "id": "4727f813-af86-46f5-872a-9cee368774b3",
   "metadata": {},
   "outputs": [],
   "source": [
    "model = tf.keras.Sequential([\n",
    "    tf.keras.layers.Flatten(input_shape=(2401,)),\n",
    "    tf.keras.layers.Dense(128, activation='relu'),\n",
    "    tf.keras.layers.Dense(4)\n",
    "])\n"
   ]
  },
  {
   "cell_type": "code",
   "execution_count": 91,
   "id": "b72ac06b-f556-4ffb-b658-c874c875d5b1",
   "metadata": {},
   "outputs": [],
   "source": [
    "model.compile(optimizer='adam',\n",
    "              loss=tf.keras.losses.SparseCategoricalCrossentropy(from_logits=True),\n",
    "              metrics=['accuracy'])"
   ]
  },
  {
   "cell_type": "markdown",
   "id": "e0ad71df-400e-4fb5-965b-85bbf683ec68",
   "metadata": {},
   "source": [
    "# Train the model"
   ]
  },
  {
   "cell_type": "code",
   "execution_count": 92,
   "id": "056dd78e-725e-49a3-9c05-b26f6397a54f",
   "metadata": {
    "tags": []
   },
   "outputs": [
    {
     "name": "stdout",
     "output_type": "stream",
     "text": [
      "Epoch 1/100\n",
      "30/30 [==============================] - 1s 3ms/step - loss: 1.3310 - accuracy: 0.3677\n",
      "Epoch 2/100\n",
      "30/30 [==============================] - 0s 3ms/step - loss: 1.1903 - accuracy: 0.5198\n",
      "Epoch 3/100\n",
      "30/30 [==============================] - 0s 3ms/step - loss: 1.0819 - accuracy: 0.5583\n",
      "Epoch 4/100\n",
      "30/30 [==============================] - 0s 3ms/step - loss: 1.0233 - accuracy: 0.5792\n",
      "Epoch 5/100\n",
      "30/30 [==============================] - 0s 3ms/step - loss: 0.9598 - accuracy: 0.6083\n",
      "Epoch 6/100\n",
      "30/30 [==============================] - 0s 3ms/step - loss: 0.9313 - accuracy: 0.6198\n",
      "Epoch 7/100\n",
      "30/30 [==============================] - 0s 3ms/step - loss: 0.9039 - accuracy: 0.6365\n",
      "Epoch 8/100\n",
      "30/30 [==============================] - 0s 3ms/step - loss: 0.8680 - accuracy: 0.6458\n",
      "Epoch 9/100\n",
      "30/30 [==============================] - 0s 3ms/step - loss: 0.8526 - accuracy: 0.6521\n",
      "Epoch 10/100\n",
      "30/30 [==============================] - 0s 3ms/step - loss: 0.8312 - accuracy: 0.6479\n",
      "Epoch 11/100\n",
      "30/30 [==============================] - 0s 3ms/step - loss: 0.8235 - accuracy: 0.6646\n",
      "Epoch 12/100\n",
      "30/30 [==============================] - 0s 3ms/step - loss: 0.7952 - accuracy: 0.6635\n",
      "Epoch 13/100\n",
      "30/30 [==============================] - 0s 3ms/step - loss: 0.7846 - accuracy: 0.6781\n",
      "Epoch 14/100\n",
      "30/30 [==============================] - 0s 3ms/step - loss: 0.7746 - accuracy: 0.6844\n",
      "Epoch 15/100\n",
      "30/30 [==============================] - 0s 3ms/step - loss: 0.7600 - accuracy: 0.6771\n",
      "Epoch 16/100\n",
      "30/30 [==============================] - 0s 3ms/step - loss: 0.7493 - accuracy: 0.6917\n",
      "Epoch 17/100\n",
      "30/30 [==============================] - 0s 3ms/step - loss: 0.7400 - accuracy: 0.6938\n",
      "Epoch 18/100\n",
      "30/30 [==============================] - 0s 3ms/step - loss: 0.7376 - accuracy: 0.7010\n",
      "Epoch 19/100\n",
      "30/30 [==============================] - 0s 3ms/step - loss: 0.7154 - accuracy: 0.7073\n",
      "Epoch 20/100\n",
      "30/30 [==============================] - 0s 3ms/step - loss: 0.7145 - accuracy: 0.7094\n",
      "Epoch 21/100\n",
      "30/30 [==============================] - 0s 3ms/step - loss: 0.7144 - accuracy: 0.7042\n",
      "Epoch 22/100\n",
      "30/30 [==============================] - 0s 3ms/step - loss: 0.7016 - accuracy: 0.7167\n",
      "Epoch 23/100\n",
      "30/30 [==============================] - 0s 3ms/step - loss: 0.6854 - accuracy: 0.7188\n",
      "Epoch 24/100\n",
      "30/30 [==============================] - 0s 3ms/step - loss: 0.6771 - accuracy: 0.7219\n",
      "Epoch 25/100\n",
      "30/30 [==============================] - 0s 3ms/step - loss: 0.6704 - accuracy: 0.7302\n",
      "Epoch 26/100\n",
      "30/30 [==============================] - 0s 3ms/step - loss: 0.6660 - accuracy: 0.7417\n",
      "Epoch 27/100\n",
      "30/30 [==============================] - 0s 3ms/step - loss: 0.6550 - accuracy: 0.7406\n",
      "Epoch 28/100\n",
      "30/30 [==============================] - 0s 3ms/step - loss: 0.6441 - accuracy: 0.7604\n",
      "Epoch 29/100\n",
      "30/30 [==============================] - 0s 3ms/step - loss: 0.6426 - accuracy: 0.7469\n",
      "Epoch 30/100\n",
      "30/30 [==============================] - 0s 3ms/step - loss: 0.6367 - accuracy: 0.7552\n",
      "Epoch 31/100\n",
      "30/30 [==============================] - 0s 3ms/step - loss: 0.6363 - accuracy: 0.7427\n",
      "Epoch 32/100\n",
      "30/30 [==============================] - 0s 3ms/step - loss: 0.6391 - accuracy: 0.7604\n",
      "Epoch 33/100\n",
      "30/30 [==============================] - 0s 3ms/step - loss: 0.6201 - accuracy: 0.7469\n",
      "Epoch 34/100\n",
      "30/30 [==============================] - 0s 3ms/step - loss: 0.6091 - accuracy: 0.7531\n",
      "Epoch 35/100\n",
      "30/30 [==============================] - 0s 3ms/step - loss: 0.6033 - accuracy: 0.7667\n",
      "Epoch 36/100\n",
      "30/30 [==============================] - 0s 3ms/step - loss: 0.6014 - accuracy: 0.7656\n",
      "Epoch 37/100\n",
      "30/30 [==============================] - 0s 3ms/step - loss: 0.6054 - accuracy: 0.7729\n",
      "Epoch 38/100\n",
      "30/30 [==============================] - 0s 3ms/step - loss: 0.5999 - accuracy: 0.7521\n",
      "Epoch 39/100\n",
      "30/30 [==============================] - 0s 3ms/step - loss: 0.5771 - accuracy: 0.7833\n",
      "Epoch 40/100\n",
      "30/30 [==============================] - 0s 3ms/step - loss: 0.5922 - accuracy: 0.7635\n",
      "Epoch 41/100\n",
      "30/30 [==============================] - 0s 3ms/step - loss: 0.5768 - accuracy: 0.7781\n",
      "Epoch 42/100\n",
      "30/30 [==============================] - 0s 3ms/step - loss: 0.5589 - accuracy: 0.7927\n",
      "Epoch 43/100\n",
      "30/30 [==============================] - 0s 3ms/step - loss: 0.5555 - accuracy: 0.7937\n",
      "Epoch 44/100\n",
      "30/30 [==============================] - 0s 3ms/step - loss: 0.5604 - accuracy: 0.7781\n",
      "Epoch 45/100\n",
      "30/30 [==============================] - 0s 3ms/step - loss: 0.5462 - accuracy: 0.7854\n",
      "Epoch 46/100\n",
      "30/30 [==============================] - 0s 3ms/step - loss: 0.5437 - accuracy: 0.7948\n",
      "Epoch 47/100\n",
      "30/30 [==============================] - 0s 3ms/step - loss: 0.5366 - accuracy: 0.7937\n",
      "Epoch 48/100\n",
      "30/30 [==============================] - 0s 3ms/step - loss: 0.5420 - accuracy: 0.7896\n",
      "Epoch 49/100\n",
      "30/30 [==============================] - 0s 3ms/step - loss: 0.5317 - accuracy: 0.8042\n",
      "Epoch 50/100\n",
      "30/30 [==============================] - 0s 3ms/step - loss: 0.5243 - accuracy: 0.8000\n",
      "Epoch 51/100\n",
      "30/30 [==============================] - 0s 3ms/step - loss: 0.5163 - accuracy: 0.7948\n",
      "Epoch 52/100\n",
      "30/30 [==============================] - 0s 3ms/step - loss: 0.5194 - accuracy: 0.8073\n",
      "Epoch 53/100\n",
      "30/30 [==============================] - 0s 3ms/step - loss: 0.5118 - accuracy: 0.8042\n",
      "Epoch 54/100\n",
      "30/30 [==============================] - 0s 3ms/step - loss: 0.5162 - accuracy: 0.8042\n",
      "Epoch 55/100\n",
      "30/30 [==============================] - 0s 3ms/step - loss: 0.5031 - accuracy: 0.8073\n",
      "Epoch 56/100\n",
      "30/30 [==============================] - 0s 3ms/step - loss: 0.4991 - accuracy: 0.8177\n",
      "Epoch 57/100\n",
      "30/30 [==============================] - 0s 3ms/step - loss: 0.4896 - accuracy: 0.8188\n",
      "Epoch 58/100\n",
      "30/30 [==============================] - 0s 3ms/step - loss: 0.4884 - accuracy: 0.8250\n",
      "Epoch 59/100\n",
      "30/30 [==============================] - 0s 3ms/step - loss: 0.4923 - accuracy: 0.8135\n",
      "Epoch 60/100\n",
      "30/30 [==============================] - 0s 3ms/step - loss: 0.4769 - accuracy: 0.8156\n",
      "Epoch 61/100\n",
      "30/30 [==============================] - 0s 3ms/step - loss: 0.4818 - accuracy: 0.8271\n",
      "Epoch 62/100\n",
      "30/30 [==============================] - 0s 3ms/step - loss: 0.4781 - accuracy: 0.8292\n",
      "Epoch 63/100\n",
      "30/30 [==============================] - 0s 3ms/step - loss: 0.4563 - accuracy: 0.8417\n",
      "Epoch 64/100\n",
      "30/30 [==============================] - 0s 3ms/step - loss: 0.4680 - accuracy: 0.8323\n",
      "Epoch 65/100\n",
      "30/30 [==============================] - 0s 3ms/step - loss: 0.4580 - accuracy: 0.8240\n",
      "Epoch 66/100\n",
      "30/30 [==============================] - 0s 3ms/step - loss: 0.4685 - accuracy: 0.8083\n",
      "Epoch 67/100\n",
      "30/30 [==============================] - 0s 3ms/step - loss: 0.4627 - accuracy: 0.8281\n",
      "Epoch 68/100\n",
      "30/30 [==============================] - 0s 3ms/step - loss: 0.4422 - accuracy: 0.8438\n",
      "Epoch 69/100\n",
      "30/30 [==============================] - 0s 3ms/step - loss: 0.4365 - accuracy: 0.8531\n",
      "Epoch 70/100\n",
      "30/30 [==============================] - 0s 3ms/step - loss: 0.4362 - accuracy: 0.8406\n",
      "Epoch 71/100\n",
      "30/30 [==============================] - 0s 3ms/step - loss: 0.4276 - accuracy: 0.8448\n",
      "Epoch 72/100\n",
      "30/30 [==============================] - 0s 3ms/step - loss: 0.4291 - accuracy: 0.8344\n",
      "Epoch 73/100\n",
      "30/30 [==============================] - 0s 3ms/step - loss: 0.4353 - accuracy: 0.8375\n",
      "Epoch 74/100\n",
      "30/30 [==============================] - 0s 3ms/step - loss: 0.4270 - accuracy: 0.8510\n",
      "Epoch 75/100\n",
      "30/30 [==============================] - 0s 3ms/step - loss: 0.4156 - accuracy: 0.8490\n",
      "Epoch 76/100\n",
      "30/30 [==============================] - 0s 3ms/step - loss: 0.4178 - accuracy: 0.8625\n",
      "Epoch 77/100\n",
      "30/30 [==============================] - 0s 3ms/step - loss: 0.4183 - accuracy: 0.8594\n",
      "Epoch 78/100\n",
      "30/30 [==============================] - 0s 3ms/step - loss: 0.4217 - accuracy: 0.8542\n",
      "Epoch 79/100\n",
      "30/30 [==============================] - 0s 3ms/step - loss: 0.4042 - accuracy: 0.8583\n",
      "Epoch 80/100\n",
      "30/30 [==============================] - 0s 3ms/step - loss: 0.4068 - accuracy: 0.8583\n",
      "Epoch 81/100\n",
      "30/30 [==============================] - 0s 3ms/step - loss: 0.3913 - accuracy: 0.8635\n",
      "Epoch 82/100\n",
      "30/30 [==============================] - 0s 3ms/step - loss: 0.3890 - accuracy: 0.8677\n",
      "Epoch 83/100\n",
      "30/30 [==============================] - 0s 3ms/step - loss: 0.3945 - accuracy: 0.8719\n",
      "Epoch 84/100\n",
      "30/30 [==============================] - 0s 3ms/step - loss: 0.3854 - accuracy: 0.8708\n",
      "Epoch 85/100\n",
      "30/30 [==============================] - 0s 3ms/step - loss: 0.3877 - accuracy: 0.8729\n",
      "Epoch 86/100\n",
      "30/30 [==============================] - 0s 3ms/step - loss: 0.3851 - accuracy: 0.8729\n",
      "Epoch 87/100\n",
      "30/30 [==============================] - 0s 3ms/step - loss: 0.3777 - accuracy: 0.8667\n",
      "Epoch 88/100\n",
      "30/30 [==============================] - 0s 3ms/step - loss: 0.3744 - accuracy: 0.8844\n",
      "Epoch 89/100\n",
      "30/30 [==============================] - 0s 3ms/step - loss: 0.3671 - accuracy: 0.8771\n",
      "Epoch 90/100\n",
      "30/30 [==============================] - 0s 3ms/step - loss: 0.3558 - accuracy: 0.8781\n",
      "Epoch 91/100\n",
      "30/30 [==============================] - 0s 3ms/step - loss: 0.3542 - accuracy: 0.8875\n",
      "Epoch 92/100\n",
      "30/30 [==============================] - 0s 3ms/step - loss: 0.3610 - accuracy: 0.8813\n",
      "Epoch 93/100\n",
      "30/30 [==============================] - 0s 3ms/step - loss: 0.3488 - accuracy: 0.8906\n",
      "Epoch 94/100\n",
      "30/30 [==============================] - 0s 3ms/step - loss: 0.3521 - accuracy: 0.8885\n",
      "Epoch 95/100\n",
      "30/30 [==============================] - 0s 3ms/step - loss: 0.3427 - accuracy: 0.8927\n",
      "Epoch 96/100\n",
      "30/30 [==============================] - 0s 3ms/step - loss: 0.3695 - accuracy: 0.8740\n",
      "Epoch 97/100\n",
      "30/30 [==============================] - 0s 3ms/step - loss: 0.3388 - accuracy: 0.8927\n",
      "Epoch 98/100\n",
      "30/30 [==============================] - 0s 3ms/step - loss: 0.3392 - accuracy: 0.8865\n",
      "Epoch 99/100\n",
      "30/30 [==============================] - 0s 3ms/step - loss: 0.3305 - accuracy: 0.8948\n",
      "Epoch 100/100\n",
      "30/30 [==============================] - 0s 3ms/step - loss: 0.3261 - accuracy: 0.8969\n"
     ]
    },
    {
     "data": {
      "text/plain": [
       "<keras.callbacks.History at 0x7f5fb8770760>"
      ]
     },
     "execution_count": 92,
     "metadata": {},
     "output_type": "execute_result"
    }
   ],
   "source": [
    "model.fit(X_train, y_train, epochs=100, use_multiprocessing = True)"
   ]
  },
  {
   "cell_type": "code",
   "execution_count": 94,
   "id": "f02b3ebb-0369-4721-a3c9-0a3b8373e113",
   "metadata": {},
   "outputs": [
    {
     "name": "stdout",
     "output_type": "stream",
     "text": [
      "8/8 - 0s - loss: 0.9669 - accuracy: 0.6375 - 46ms/epoch - 6ms/step\n",
      "\n",
      "Test accuracy: 0.637499988079071\n"
     ]
    }
   ],
   "source": [
    "test_loss, test_acc = model.evaluate(X_test,  y_test, verbose=2)\n",
    "\n",
    "print('\\nTest accuracy:', test_acc)"
   ]
  },
  {
   "cell_type": "markdown",
   "id": "81db4fb5-061f-4111-bd32-30ceeb66c447",
   "metadata": {},
   "source": [
    "# Build the model"
   ]
  },
  {
   "cell_type": "code",
   "execution_count": null,
   "id": "a820dd17-b48f-42a2-bd4f-a01c002848ea",
   "metadata": {},
   "outputs": [],
   "source": []
  },
  {
   "cell_type": "code",
   "execution_count": 38,
   "id": "74753c3e-102d-4432-b371-c2a10738ae28",
   "metadata": {},
   "outputs": [
    {
     "name": "stdout",
     "output_type": "stream",
     "text": [
      "8/8 [==============================] - 0s 2ms/step\n"
     ]
    },
    {
     "data": {
      "text/plain": [
       "array([4.2935785e-06, 9.5329696e-01, 2.3143338e-02, 2.3555385e-02],\n",
       "      dtype=float32)"
      ]
     },
     "execution_count": 38,
     "metadata": {},
     "output_type": "execute_result"
    }
   ],
   "source": [
    "probability_model = tf.keras.Sequential([model, \n",
    "                                         tf.keras.layers.Softmax()])\n",
    "predictions = probability_model.predict(X_test)\n",
    "predictions[0]"
   ]
  },
  {
   "cell_type": "code",
   "execution_count": 39,
   "id": "fa1142e4-d2d1-4003-aa78-5cb8f6bcf94c",
   "metadata": {},
   "outputs": [
    {
     "data": {
      "text/plain": [
       "1"
      ]
     },
     "execution_count": 39,
     "metadata": {},
     "output_type": "execute_result"
    }
   ],
   "source": [
    "np.argmax(predictions[0])"
   ]
  },
  {
   "cell_type": "markdown",
   "id": "68ef3ae3-c870-454b-ac9b-3034770752cb",
   "metadata": {},
   "source": [
    "# Use the trained model"
   ]
  },
  {
   "cell_type": "code",
   "execution_count": 60,
   "id": "4a06e0f1-aeae-430b-aaa2-3de9b0b742f3",
   "metadata": {},
   "outputs": [],
   "source": [
    "# Grab an image from the test dataset.\n",
    "test = X_test[:1]"
   ]
  },
  {
   "cell_type": "markdown",
   "id": "2e8a3a7f-da2d-4680-9bd9-67ab24af5c95",
   "metadata": {},
   "source": [
    "# Tune model"
   ]
  },
  {
   "cell_type": "code",
   "execution_count": null,
   "id": "3f44879a-f5b9-42ea-857c-624eac6f8d3e",
   "metadata": {},
   "outputs": [],
   "source": [
    "model.save('tfmodel')\n",
    "del model \n",
    "model = load_model('tfmodel')"
   ]
  },
  {
   "cell_type": "code",
   "execution_count": null,
   "id": "da8cb8b6-1f55-4111-8811-c4ed1f4186df",
   "metadata": {},
   "outputs": [],
   "source": []
  },
  {
   "cell_type": "code",
   "execution_count": null,
   "id": "8a096d02-5b3e-43f4-a985-cacad75b434c",
   "metadata": {},
   "outputs": [],
   "source": []
  }
 ],
 "metadata": {
  "kernelspec": {
   "display_name": "Python 3 (ipykernel)",
   "language": "python",
   "name": "python3"
  },
  "language_info": {
   "codemirror_mode": {
    "name": "ipython",
    "version": 3
   },
   "file_extension": ".py",
   "mimetype": "text/x-python",
   "name": "python",
   "nbconvert_exporter": "python",
   "pygments_lexer": "ipython3",
   "version": "3.9.15"
  }
 },
 "nbformat": 4,
 "nbformat_minor": 5
}
