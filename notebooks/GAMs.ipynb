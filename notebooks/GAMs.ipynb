{
 "cells": [
  {
   "cell_type": "code",
   "execution_count": 1,
   "id": "a23f0c27-32ab-40e7-9660-8036fc327468",
   "metadata": {},
   "outputs": [],
   "source": [
    "import sys\n",
    "sys.path.append(\"../lib/\")\n",
    "from pathlib import Path\n",
    "\n",
    "from pygam import LogisticGAM, s\n",
    "from sklearn.model_selection import train_test_split\n",
    "import pandas as pd\n",
    "from sklearn.preprocessing import LabelEncoder\n",
    "import numpy as np\n",
    "from itertools import combinations\n",
    "import matplotlib.pyplot as plt\n",
    "#from sklearn.metrics import f1_score"
   ]
  },
  {
   "cell_type": "code",
   "execution_count": 12,
   "id": "a32747b4-4026-4a91-8afe-43eee6b2aa9d",
   "metadata": {},
   "outputs": [],
   "source": [
    "dataset = \"L_540_2022_C_E_R_B\"\n",
    "\n",
    "results_path = Path(\"../results/\") / dataset\n",
    "data = pd.read_csv(results_path / (dataset + \"_preprocessed.csv\"))\n",
    "\n",
    "if \"file\" in data.columns:\n",
    "    X = data.drop(columns=[\"label\", \"file\"])    \n",
    "else:\n",
    "    X = data.drop(columns=[\"\"])\n",
    "\n",
    "wns = np.asarray(X.columns.astype(float))\n",
    "X = np.asarray(X)\n",
    "#X = pd.get_dummies(df.drop(['label', 'file'], axis=1))\n",
    "#Map the class names to integer values\n",
    "#class_map = {'Both': 0, 'Control': 1, 'Etoposide': 2, 'Resveratrol': 3}\n",
    "#y = df['label'] = df['label'].replace(class_map)\n",
    "y = np.asarray(data.label)\n",
    "le = LabelEncoder()\n",
    "y = le.fit_transform(y)"
   ]
  },
  {
   "cell_type": "code",
   "execution_count": 13,
   "id": "d9a895f9-d6ab-4f4b-a952-eeb11d1bda0b",
   "metadata": {},
   "outputs": [],
   "source": [
    "# Split data into training and testing sets\n",
    "X_train, X_test, y_train, y_test = train_test_split(X, y, test_size=0.2, random_state=42)"
   ]
  },
  {
   "cell_type": "code",
   "execution_count": 14,
   "id": "576f32b9-db7a-4280-960d-9129590ed509",
   "metadata": {
    "tags": []
   },
   "outputs": [],
   "source": [
    "# Define a list of models for each class for OVR\n",
    "ovr_models = []\n",
    "\n",
    "# For each class, fit a model\n",
    "for class_i in np.unique(y_train):\n",
    "    # Create a binary label for the current class\n",
    "    y_binary = np.where(y_train == class_i, 1, 0)\n",
    "    \n",
    "    # Initialize the model. 's(0)' indicates a spline term for the 0th feature\n",
    "    gam = LogisticGAM(s(0) + s(1), lam=0.6)\n",
    "    \n",
    "    # Fit the model\n",
    "    gam.fit(X_train, y_binary)\n",
    "    \n",
    "    # Save the model\n",
    "    ovr_models.append(gam)\n",
    "\n",
    "# Predict on the test set for OVR\n",
    "ovr_predictions = []\n",
    "for model in ovr_models:\n",
    "    ovr_predictions.append(model.predict_proba(X_test))\n",
    "\n",
    "# Transpose the list of predictions and get the class with the highest probability\n",
    "ovr_predictions = np.array(ovr_predictions).T\n",
    "ovr_y_pred = np.argmax(ovr_predictions, axis=1)\n",
    "\n",
    "# Calculate accuracy for OVR\n",
    "ovr_accuracy = np.sum(ovr_y_pred == y_test) / len(y_test)\n",
    "#ovr_f1 = f1_score(y_test, ovr_y_pred, average='macro')\n"
   ]
  },
  {
   "cell_type": "code",
   "execution_count": 15,
   "id": "99204c51-5426-40c6-9d7a-0cbfcd438c37",
   "metadata": {
    "tags": []
   },
   "outputs": [],
   "source": [
    "# Define a list of models for each pair of classes for OVO\n",
    "ovo_models = []\n",
    "ovo_class_pairs = []\n",
    "\n",
    "# For each pair of classes, fit a model\n",
    "for pair in combinations(np.unique(y_train), 2):\n",
    "    # Select only the data points that belong to the current pair of classes\n",
    "    indices = np.where((y_train == pair[0]) | (y_train == pair[1]))\n",
    "    \n",
    "    X_pair = X_train[indices]\n",
    "    y_pair = np.where(y_train[indices] == pair[0], 0, 1)\n",
    "    \n",
    "    # Initialize the model\n",
    "    gam = LogisticGAM(s(0) + s(1), lam=0.6)\n",
    "    \n",
    "    # Fit the model\n",
    "    gam.fit(X_pair, y_pair)\n",
    "    \n",
    "    # Save the model and the class pair\n",
    "    ovo_models.append(gam)\n",
    "    ovo_class_pairs.append(pair)\n",
    "\n",
    "# Predict on the test set for OVO\n",
    "ovo_predictions = np.zeros((len(X_test), len(np.unique(y_train))))\n",
    "for model, pair in zip(ovo_models, ovo_class_pairs):\n",
    "    pair_predictions = model.predict_proba(X_test)\n",
    "    ovo_predictions[:, pair[0]] += pair_predictions\n",
    "    ovo_predictions[:, pair[1]] += 1 - pair_predictions\n",
    "\n",
    "# Get the class with the highest probability\n",
    "ovo_y_pred = np.argmax(ovo_predictions, axis=1)\n",
    "\n",
    "# Calculate accuracy for OVO\n",
    "ovo_accuracy = np.sum(ovo_y_pred == y_test) / len(y_test)\n",
    "#ovo_f1 = f1_score(y_test, ovo_y_pred, average='macro')\n"
   ]
  },
  {
   "cell_type": "code",
   "execution_count": 16,
   "id": "9c68dd05-f621-4230-8cab-2bd79398fb2b",
   "metadata": {
    "tags": []
   },
   "outputs": [
    {
     "name": "stdout",
     "output_type": "stream",
     "text": [
      "OVR Accuracy: 32.08%\n",
      "OVO Accuracy: 17.92%\n"
     ]
    },
    {
     "data": {
      "image/png": "[encoded data removed]",
      "text/plain": [
       "<Figure size 640x480 with 1 Axes>"
      ]
     },
     "metadata": {},
     "output_type": "display_data"
    }
   ],
   "source": [
    "# Compare accuracies\n",
    "print(f'OVR Accuracy: {ovr_accuracy*100:.2f}%')\n",
    "#print(f'OVR F1-score: {ovr_f1*100:.2f}%')\n",
    "print(f'OVO Accuracy: {ovo_accuracy*100:.2f}%')\n",
    "#print(f'OVO F1-score: {ovo_f1*100:.2f}%')\n",
    "\n",
    "# Create a bar plot\n",
    "plt.bar(['OVR', 'OVO'], [ovr_accuracy, ovo_accuracy])\n",
    "#plt.bar(['OVR_acc','OVR_f1','OVO_acc', 'OVO_f1'], [ovr_accuracy, ovr_f1, ovo_accuracy, ovo_f1])\n",
    "plt.ylabel('Accuracy')\n",
    "plt.title('Comparison of OVR and OVO Strategies with GAMs')\n",
    "plt.show()"
   ]
  },
  {
   "cell_type": "code",
   "execution_count": null,
   "id": "f286722f-88d5-4737-8425-263633613db3",
   "metadata": {},
   "outputs": [],
   "source": []
  },
  {
   "cell_type": "code",
   "execution_count": null,
   "id": "bbc830a7-3a9c-40c3-bef7-88cb027086a0",
   "metadata": {},
   "outputs": [],
   "source": []
  }
 ],
 "metadata": {
  "kernelspec": {
   "display_name": "Python 3 (ipykernel)",
   "language": "python",
   "name": "python3"
  },
  "language_info": {
   "codemirror_mode": {
    "name": "ipython",
    "version": 3
   },
   "file_extension": ".py",
   "mimetype": "text/x-python",
   "name": "python",
   "nbconvert_exporter": "python",
   "pygments_lexer": "ipython3",
   "version": "3.9.15"
  }
 },
 "nbformat": 4,
 "nbformat_minor": 5
}
